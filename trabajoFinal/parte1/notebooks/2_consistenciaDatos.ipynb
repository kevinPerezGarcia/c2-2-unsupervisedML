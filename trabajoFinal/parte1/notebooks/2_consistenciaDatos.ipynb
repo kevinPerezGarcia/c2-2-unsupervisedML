{
 "cells": [
  {
   "cell_type": "markdown",
   "metadata": {},
   "source": [
    "# Consistencia de datos"
   ]
  },
  {
   "cell_type": "markdown",
   "metadata": {},
   "source": [
    "De acuerdo al archivo `diccionarioVariables.xlsx`, se debe examinar la consistencia de datos de la variable renombrada `hijos` descrita como \"Número de hijos dependientes\"."
   ]
  },
  {
   "cell_type": "code",
   "execution_count": 1,
   "metadata": {},
   "outputs": [],
   "source": [
    "import pandas as pd\n",
    "\n",
    "df = pd.read_pickle(\"../data/interim/df_tipoDato.pkl\")"
   ]
  },
  {
   "cell_type": "code",
   "execution_count": 2,
   "metadata": {},
   "outputs": [
    {
     "data": {
      "text/plain": [
       "hijos\n",
       "0.000000    10905\n",
       "1.000000     8361\n",
       "2.000000     2779\n",
       "3.000000      683\n",
       "4.000000      127\n",
       "0.738639       24\n",
       "5.000000       17\n",
       "7.000000        5\n",
       "0.710668        3\n",
       "6.000000        3\n",
       "Name: count, dtype: int64"
      ]
     },
     "execution_count": 2,
     "metadata": {},
     "output_type": "execute_result"
    }
   ],
   "source": [
    "df['hijos'].value_counts()"
   ]
  },
  {
   "cell_type": "markdown",
   "metadata": {},
   "source": [
    "Los valores inconsistentes de esta variable son: `0.738639` y `0.710668`. No tiene sentido que un operario tenga como número de hijos dependientes estas cantidades.\n",
    "\n",
    "Así que la correción será crear una variable dummy `al_menos_un_hijo` cuyos valores serán 1 si el operario tiene un hijo y 0 si no lo tiene."
   ]
  },
  {
   "cell_type": "code",
   "execution_count": 3,
   "metadata": {},
   "outputs": [
    {
     "data": {
      "text/plain": [
       "al_menos_un_hijo\n",
       "1    12002\n",
       "0    10905\n",
       "Name: count, dtype: int64"
      ]
     },
     "execution_count": 3,
     "metadata": {},
     "output_type": "execute_result"
    }
   ],
   "source": [
    "df['al_menos_un_hijo'] = df['hijos'].apply(lambda x: 0 if x == 0 else 1)\n",
    "df['al_menos_un_hijo'].value_counts()"
   ]
  },
  {
   "cell_type": "markdown",
   "metadata": {},
   "source": [
    "Eliminamos la variable `hijos`:"
   ]
  },
  {
   "cell_type": "code",
   "execution_count": 4,
   "metadata": {},
   "outputs": [],
   "source": [
    "df_datosConsistentes = df.drop('hijos', axis=1)"
   ]
  },
  {
   "cell_type": "markdown",
   "metadata": {},
   "source": [
    "Guardando base de datos:"
   ]
  },
  {
   "cell_type": "code",
   "execution_count": 5,
   "metadata": {},
   "outputs": [],
   "source": [
    "df_datosConsistentes.to_pickle(\"../data/interim/df_datosConsistentes.pkl\")"
   ]
  }
 ],
 "metadata": {
  "kernelspec": {
   "display_name": "env",
   "language": "python",
   "name": "python3"
  },
  "language_info": {
   "codemirror_mode": {
    "name": "ipython",
    "version": 3
   },
   "file_extension": ".py",
   "mimetype": "text/x-python",
   "name": "python",
   "nbconvert_exporter": "python",
   "pygments_lexer": "ipython3",
   "version": "3.11.4"
  }
 },
 "nbformat": 4,
 "nbformat_minor": 2
}
