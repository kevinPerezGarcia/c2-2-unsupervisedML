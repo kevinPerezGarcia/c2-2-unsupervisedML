{
 "cells": [
  {
   "cell_type": "markdown",
   "metadata": {},
   "source": [
    "# Tratamiento de variables categóricas"
   ]
  },
  {
   "cell_type": "code",
   "execution_count": 4,
   "metadata": {},
   "outputs": [],
   "source": [
    "import pandas as pd\n",
    "from sklearn.preprocessing import OrdinalEncoder\n",
    "df = pd.read_pickle(\"../data/interim/df_sin_valoresFaltantes.pkl\")"
   ]
  },
  {
   "cell_type": "code",
   "execution_count": 5,
   "metadata": {},
   "outputs": [],
   "source": [
    "df.drop('id_operario', axis=1, inplace=True)"
   ]
  },
  {
   "cell_type": "code",
   "execution_count": 6,
   "metadata": {},
   "outputs": [
    {
     "data": {
      "text/plain": [
       "Index(['campania', 'estado_civil', 'sexo', 'region'], dtype='object')"
      ]
     },
     "execution_count": 6,
     "metadata": {},
     "output_type": "execute_result"
    }
   ],
   "source": [
    "var_categoricas = df.select_dtypes(include=['category']).columns\n",
    "var_categoricas"
   ]
  },
  {
   "cell_type": "code",
   "execution_count": 7,
   "metadata": {},
   "outputs": [
    {
     "data": {
      "text/plain": [
       "campania\n",
       "19    11579\n",
       "20    11328\n",
       "Name: count, dtype: int64"
      ]
     },
     "execution_count": 7,
     "metadata": {},
     "output_type": "execute_result"
    }
   ],
   "source": [
    "df['campania'].value_counts()"
   ]
  },
  {
   "cell_type": "markdown",
   "metadata": {},
   "source": [
    "Excelente distribución de datos para ambas campañas."
   ]
  },
  {
   "cell_type": "code",
   "execution_count": 8,
   "metadata": {},
   "outputs": [
    {
     "data": {
      "text/plain": [
       "region\n",
       "Piura    12677\n",
       "Ica      10230\n",
       "Name: count, dtype: int64"
      ]
     },
     "execution_count": 8,
     "metadata": {},
     "output_type": "execute_result"
    }
   ],
   "source": [
    "df['region'].value_counts()"
   ]
  },
  {
   "cell_type": "markdown",
   "metadata": {},
   "source": [
    "Excelente distribución de los datos para ambas regiones de cultivo."
   ]
  },
  {
   "cell_type": "code",
   "execution_count": 9,
   "metadata": {},
   "outputs": [
    {
     "data": {
      "text/plain": [
       "region  campania\n",
       "Piura   19          6626\n",
       "        20          6051\n",
       "Ica     20          5277\n",
       "        19          4953\n",
       "Name: count, dtype: int64"
      ]
     },
     "execution_count": 9,
     "metadata": {},
     "output_type": "execute_result"
    }
   ],
   "source": [
    "df[['region', 'campania']].value_counts()"
   ]
  },
  {
   "cell_type": "markdown",
   "metadata": {},
   "source": [
    "Excelente distribución de los datos para ambas regiones de cultivo en ambos años de campaña.\n",
    "\n",
    "*Nota.* Recuérdese que se aplicará el algoritmo para cada una de las regiones de cultivo considerando ambos años como uno solo."
   ]
  },
  {
   "cell_type": "code",
   "execution_count": 10,
   "metadata": {},
   "outputs": [
    {
     "data": {
      "text/plain": [
       "campania\n",
       "19    11579\n",
       "20    11328\n",
       "Name: count, dtype: int64"
      ]
     },
     "execution_count": 10,
     "metadata": {},
     "output_type": "execute_result"
    }
   ],
   "source": [
    "df['campania'].value_counts()"
   ]
  },
  {
   "cell_type": "code",
   "execution_count": 11,
   "metadata": {},
   "outputs": [],
   "source": [
    "# Realizar one-hot encoding de la columna estado_civil\n",
    "campania_encoded = pd.get_dummies(df['campania'], prefix='campania')\n",
    "\n",
    "# Ahora tienes un DataFrame con columnas binarias representando las categorías de estado civil\n",
    "# Puedes unir este nuevo DataFrame con el original si necesitas mantener las otras columnas\n",
    "df = pd.concat([df, campania_encoded], axis=1)\n",
    "\n",
    "# Eliminar la columna original de estado_civil si ya no la necesitas\n",
    "df.drop('campania', axis=1, inplace=True)"
   ]
  },
  {
   "cell_type": "code",
   "execution_count": 12,
   "metadata": {},
   "outputs": [
    {
     "data": {
      "text/plain": [
       "estado_civil\n",
       "Soltero(a)                          21056\n",
       "Casado(a)/conviviente/unionlibre     1806\n",
       "Viudo(a)                               27\n",
       "Divorciado(a)/separado(a)              18\n",
       "Name: count, dtype: int64"
      ]
     },
     "execution_count": 12,
     "metadata": {},
     "output_type": "execute_result"
    }
   ],
   "source": [
    "df['estado_civil'].value_counts()"
   ]
  },
  {
   "cell_type": "markdown",
   "metadata": {},
   "source": [
    "Se recategoriza las categorías `viudo(a)` y `Divorciado(a)/separado(a)` a la categoría `Soltero(a)`."
   ]
  },
  {
   "cell_type": "code",
   "execution_count": 13,
   "metadata": {},
   "outputs": [
    {
     "name": "stderr",
     "output_type": "stream",
     "text": [
      "C:\\Users\\ANDREU\\AppData\\Local\\Temp\\ipykernel_23260\\3566310328.py:2: FutureWarning: The behavior of Series.replace (and DataFrame.replace) with CategoricalDtype is deprecated. In a future version, replace will only be used for cases that preserve the categories. To change the categories, use ser.cat.rename_categories instead.\n",
      "  df['estado_civil'] = df['estado_civil'].replace(['Viudo(a)', 'Divorciado(a)/separado(a)'], 'Soltero(a)')\n"
     ]
    }
   ],
   "source": [
    "# Reemplazar las categorías 'viudo(a)' y 'Divorciado(a)/separado(a)' por 'Soltero(a)'\n",
    "df['estado_civil'] = df['estado_civil'].replace(['Viudo(a)', 'Divorciado(a)/separado(a)'], 'Soltero(a)')"
   ]
  },
  {
   "cell_type": "code",
   "execution_count": 14,
   "metadata": {},
   "outputs": [
    {
     "data": {
      "text/plain": [
       "estado_civil\n",
       "Soltero(a)                          21101\n",
       "Casado(a)/conviviente/unionlibre     1806\n",
       "Name: count, dtype: int64"
      ]
     },
     "execution_count": 14,
     "metadata": {},
     "output_type": "execute_result"
    }
   ],
   "source": [
    "df['estado_civil'].value_counts()"
   ]
  },
  {
   "cell_type": "code",
   "execution_count": 15,
   "metadata": {},
   "outputs": [],
   "source": [
    "# Realizar one-hot encoding de la columna estado_civil\n",
    "estado_civil_encoded = pd.get_dummies(df['estado_civil'], prefix='estado_civil')\n",
    "\n",
    "# Ahora tienes un DataFrame con columnas binarias representando las categorías de estado civil\n",
    "# Puedes unir este nuevo DataFrame con el original si necesitas mantener las otras columnas\n",
    "df = pd.concat([df, estado_civil_encoded], axis=1)\n",
    "\n",
    "# Eliminar la columna original de estado_civil si ya no la necesitas\n",
    "df.drop('estado_civil', axis=1, inplace=True)"
   ]
  },
  {
   "cell_type": "code",
   "execution_count": 16,
   "metadata": {},
   "outputs": [
    {
     "data": {
      "text/plain": [
       "sexo\n",
       "Mujer     12316\n",
       "Hombre    10591\n",
       "Name: count, dtype: int64"
      ]
     },
     "execution_count": 16,
     "metadata": {},
     "output_type": "execute_result"
    }
   ],
   "source": [
    "df['sexo'].value_counts()"
   ]
  },
  {
   "cell_type": "code",
   "execution_count": 17,
   "metadata": {},
   "outputs": [],
   "source": [
    "# Realizar one-hot encoding de la columna estado_civil\n",
    "sexo_encoded = pd.get_dummies(df['sexo'], prefix='sexo')\n",
    "\n",
    "# Ahora tienes un DataFrame con columnas binarias representando las categorías de estado civil\n",
    "# Puedes unir este nuevo DataFrame con el original si necesitas mantener las otras columnas\n",
    "df = pd.concat([df, sexo_encoded], axis=1)\n",
    "\n",
    "# Eliminar la columna original de estado_civil si ya no la necesitas\n",
    "df.drop('sexo', axis=1, inplace=True)"
   ]
  },
  {
   "cell_type": "code",
   "execution_count": 18,
   "metadata": {},
   "outputs": [],
   "source": [
    "for columna in df.columns:\n",
    "    if df[columna].dtype == 'bool':\n",
    "        df[columna] = df[columna].astype('float64')"
   ]
  },
  {
   "cell_type": "code",
   "execution_count": 19,
   "metadata": {},
   "outputs": [],
   "source": [
    "df.to_pickle(\"..\\data\\processed\\df_processed\")"
   ]
  }
 ],
 "metadata": {
  "kernelspec": {
   "display_name": "env",
   "language": "python",
   "name": "python3"
  },
  "language_info": {
   "codemirror_mode": {
    "name": "ipython",
    "version": 3
   },
   "file_extension": ".py",
   "mimetype": "text/x-python",
   "name": "python",
   "nbconvert_exporter": "python",
   "pygments_lexer": "ipython3",
   "version": "3.11.4"
  }
 },
 "nbformat": 4,
 "nbformat_minor": 2
}
