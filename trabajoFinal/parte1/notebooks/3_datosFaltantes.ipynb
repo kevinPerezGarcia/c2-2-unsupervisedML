{
 "cells": [
  {
   "cell_type": "markdown",
   "metadata": {},
   "source": [
    "# Tratamiento de valores faltantes"
   ]
  },
  {
   "cell_type": "code",
   "execution_count": 2,
   "metadata": {},
   "outputs": [],
   "source": [
    "import pandas as pd\n",
    "df = pd.read_pickle(\"../data/interim/df_datosConsistentes.pkl\")"
   ]
  },
  {
   "cell_type": "code",
   "execution_count": 12,
   "metadata": {},
   "outputs": [],
   "source": [
    "variables_con_faltantes = df.columns[df.isnull().any()].tolist()"
   ]
  },
  {
   "cell_type": "code",
   "execution_count": 13,
   "metadata": {},
   "outputs": [
    {
     "data": {
      "text/plain": [
       "deuda                           0.603396\n",
       "calificacion_financiera         0.000087\n",
       "calificacion_financiera_moda    0.472432\n",
       "dias_atraso_deudas              0.603396\n",
       "bancarizado                     0.000087\n",
       "distancia_hogar_fundo           0.218187\n",
       "edad_mediana                    0.079888\n",
       "hijos_mediana                   0.079888\n",
       "trabajo_dias_asistente          0.320470\n",
       "dtype: float64"
      ]
     },
     "execution_count": 13,
     "metadata": {},
     "output_type": "execute_result"
    }
   ],
   "source": [
    "df[variables_con_faltantes].isna().mean()"
   ]
  },
  {
   "cell_type": "code",
   "execution_count": 7,
   "metadata": {},
   "outputs": [
    {
     "data": {
      "text/plain": [
       "estudio\n",
       "SECUNDARIA COMPLETA      7598\n",
       "SECUNDARIA IMCOMPLETA    5781\n",
       "ILETRADO                 4709\n",
       "PRIMARIA COMPLETA        2700\n",
       "PRIMARIA INCOMPLETA      1814\n",
       "SUPERIOR - TECNICO        304\n",
       "EDUCACION ESPECIAL          1\n",
       "Name: count, dtype: int64"
      ]
     },
     "execution_count": 7,
     "metadata": {},
     "output_type": "execute_result"
    }
   ],
   "source": [
    "df['estudio'].value_counts(dropna=False)"
   ]
  },
  {
   "cell_type": "code",
   "execution_count": 6,
   "metadata": {},
   "outputs": [],
   "source": [
    "df['estudio'].fillna('ILETRADO', inplace=True)"
   ]
  },
  {
   "cell_type": "code",
   "execution_count": 15,
   "metadata": {},
   "outputs": [
    {
     "data": {
      "text/plain": [
       "count      9085.000000\n",
       "mean       4040.564935\n",
       "std        7568.730336\n",
       "min           0.030000\n",
       "25%         839.230000\n",
       "50%        1806.900000\n",
       "75%        4149.400000\n",
       "max      159799.800000\n",
       "Name: deuda, dtype: float64"
      ]
     },
     "execution_count": 15,
     "metadata": {},
     "output_type": "execute_result"
    }
   ],
   "source": [
    "df['deuda'].describe()"
   ]
  }
 ],
 "metadata": {
  "kernelspec": {
   "display_name": "env",
   "language": "python",
   "name": "python3"
  },
  "language_info": {
   "codemirror_mode": {
    "name": "ipython",
    "version": 3
   },
   "file_extension": ".py",
   "mimetype": "text/x-python",
   "name": "python",
   "nbconvert_exporter": "python",
   "pygments_lexer": "ipython3",
   "version": "3.11.4"
  }
 },
 "nbformat": 4,
 "nbformat_minor": 2
}
