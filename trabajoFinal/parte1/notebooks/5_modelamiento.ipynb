{
 "cells": [
  {
   "cell_type": "markdown",
   "metadata": {},
   "source": [
    "# Modelamiento"
   ]
  },
  {
   "cell_type": "code",
   "execution_count": 38,
   "metadata": {},
   "outputs": [],
   "source": [
    "import pandas as pd\n",
    "\n",
    "df = pd.read_pickle(\"..\\data\\processed\\df_processed\")"
   ]
  },
  {
   "cell_type": "code",
   "execution_count": 39,
   "metadata": {},
   "outputs": [],
   "source": [
    "from sklearn.cluster import KMeans\n",
    "import matplotlib.pyplot as plt\n",
    "\n",
    "def evaluar_modelo_kmeans_varios_k(X):\n",
    "    \"\"\"\n",
    "    Analiza un modelo de k-means con distintos números de clústeres (k).\n",
    "\n",
    "    Parámetros:\n",
    "        - X: Datos de entrada.\n",
    "\n",
    "    Esta función ajusta modelos de k-means con un rango de clústeres (desde 2 hasta 10) a los datos de entrada y realiza las siguientes acciones:\n",
    "    - Calcula la inercia para cada número de clústeres.\n",
    "    - Muestra el porcentaje de muestras en cada grupo para cada número de clústeres.\n",
    "    - Grafica el cambio de la inercia en función del número de clústeres.\n",
    "    - Muestra una tabla con los valores de inercia y el cambio porcentual de la inercia entre filas.\n",
    "    \"\"\"\n",
    "    n_clusters_range = range(2, 11)\n",
    "    inercias = []\n",
    "    for n_clusters in n_clusters_range:\n",
    "        kmeans = KMeans(n_clusters=n_clusters, random_state=0)\n",
    "        kmeans.fit(X)\n",
    "        inercias.append(kmeans.inertia_)\n",
    "\n",
    "        # Obtener las etiquetas de los grupos\n",
    "        labels = kmeans.labels_\n",
    "\n",
    "        # Calcular el porcentaje de muestras en cada grupo\n",
    "        group_percentages = [sum(labels == i) / len(labels) * 100 for i in range(n_clusters)]\n",
    "        print(f\"Porcentaje de muestras en cada grupo para {n_clusters} clústeres:\")\n",
    "        for i, percentage in enumerate(group_percentages):\n",
    "            print(f\"Grupo {i + 1}: {percentage:.2f}%\")\n",
    "        print()  # Salto de línea para separar los resultados de cada número de clústeres\n",
    "\n",
    "    # Graficar la inercia\n",
    "    plt.figure(figsize=(10, 5))\n",
    "    plt.plot(n_clusters_range, inercias, marker='o')\n",
    "    plt.xlabel('Número de clústeres (k)')\n",
    "    plt.ylabel('Inercia')\n",
    "    plt.title('Método del codo para k-means')\n",
    "\n",
    "    plt.tight_layout()\n",
    "    plt.show()\n",
    "\n",
    "    # Calcular el cambio porcentual entre filas de inercia\n",
    "    inercia_change = [0] + [(inercias[i] - inercias[i-1]) / inercias[i-1] * 100 for i in range(1, len(inercias))]\n",
    "\n",
    "    # Crear un DataFrame con los valores de inercia y cambio porcentual\n",
    "    df = pd.DataFrame({\n",
    "        'Número de clústeres (k)': n_clusters_range,\n",
    "        'Inercia': inercias,\n",
    "        'Cambio inercia (%)': inercia_change,\n",
    "    })\n",
    "\n",
    "    # Imprimir el DataFrame\n",
    "    print(df)"
   ]
  },
  {
   "cell_type": "markdown",
   "metadata": {},
   "source": [
    "## Para la región `Ica`"
   ]
  },
  {
   "cell_type": "code",
   "execution_count": 40,
   "metadata": {},
   "outputs": [],
   "source": [
    "df_ica = df[df['region']=='Ica']"
   ]
  },
  {
   "cell_type": "code",
   "execution_count": 41,
   "metadata": {},
   "outputs": [
    {
     "name": "stderr",
     "output_type": "stream",
     "text": [
      "C:\\Users\\ANDREU\\AppData\\Local\\Temp\\ipykernel_21244\\2005139173.py:1: SettingWithCopyWarning: \n",
      "A value is trying to be set on a copy of a slice from a DataFrame\n",
      "\n",
      "See the caveats in the documentation: https://pandas.pydata.org/pandas-docs/stable/user_guide/indexing.html#returning-a-view-versus-a-copy\n",
      "  df_ica.drop('region', axis=1, inplace=True)\n"
     ]
    }
   ],
   "source": [
    "df_ica.drop('region', axis=1, inplace=True)"
   ]
  },
  {
   "cell_type": "code",
   "execution_count": 32,
   "metadata": {},
   "outputs": [
    {
     "name": "stdout",
     "output_type": "stream",
     "text": [
      "Porcentaje de muestras en cada grupo para 2 clústeres:\n",
      "Grupo 1: 55.50%\n",
      "Grupo 2: 44.50%\n",
      "\n",
      "Porcentaje de muestras en cada grupo para 3 clústeres:\n",
      "Grupo 1: 22.60%\n",
      "Grupo 2: 35.49%\n",
      "Grupo 3: 41.91%\n",
      "\n",
      "Porcentaje de muestras en cada grupo para 4 clústeres:\n",
      "Grupo 1: 34.19%\n",
      "Grupo 2: 30.82%\n",
      "Grupo 3: 17.71%\n",
      "Grupo 4: 17.27%\n",
      "\n",
      "Porcentaje de muestras en cada grupo para 5 clústeres:\n",
      "Grupo 1: 12.77%\n",
      "Grupo 2: 30.64%\n",
      "Grupo 3: 17.35%\n",
      "Grupo 4: 13.48%\n",
      "Grupo 5: 25.77%\n",
      "\n",
      "Porcentaje de muestras en cada grupo para 6 clústeres:\n",
      "Grupo 1: 12.62%\n",
      "Grupo 2: 19.55%\n",
      "Grupo 3: 17.35%\n",
      "Grupo 4: 10.65%\n",
      "Grupo 5: 25.40%\n",
      "Grupo 6: 14.43%\n",
      "\n",
      "Porcentaje de muestras en cada grupo para 7 clústeres:\n",
      "Grupo 1: 12.01%\n",
      "Grupo 2: 19.55%\n",
      "Grupo 3: 4.44%\n",
      "Grupo 4: 10.65%\n",
      "Grupo 5: 23.50%\n",
      "Grupo 6: 14.43%\n",
      "Grupo 7: 15.43%\n",
      "\n",
      "Porcentaje de muestras en cada grupo para 8 clústeres:\n",
      "Grupo 1: 10.58%\n",
      "Grupo 2: 16.24%\n",
      "Grupo 3: 15.43%\n",
      "Grupo 4: 9.38%\n",
      "Grupo 5: 4.41%\n",
      "Grupo 6: 21.51%\n",
      "Grupo 7: 14.41%\n",
      "Grupo 8: 8.05%\n",
      "\n",
      "Porcentaje de muestras en cada grupo para 9 clústeres:\n",
      "Grupo 1: 10.57%\n",
      "Grupo 2: 12.81%\n",
      "Grupo 3: 15.43%\n",
      "Grupo 4: 5.46%\n",
      "Grupo 5: 4.41%\n",
      "Grupo 6: 21.51%\n",
      "Grupo 7: 14.41%\n",
      "Grupo 8: 7.66%\n",
      "Grupo 9: 7.75%\n",
      "\n",
      "Porcentaje de muestras en cada grupo para 10 clústeres:\n",
      "Grupo 1: 10.57%\n",
      "Grupo 2: 12.81%\n",
      "Grupo 3: 15.42%\n",
      "Grupo 4: 5.46%\n",
      "Grupo 5: 4.42%\n",
      "Grupo 6: 21.51%\n",
      "Grupo 7: 5.86%\n",
      "Grupo 8: 7.66%\n",
      "Grupo 9: 7.75%\n",
      "Grupo 10: 8.55%\n",
      "\n"
     ]
    },
    {
     "data": {
      "image/png": "[encoded data removed]",
      "text/plain": [
       "<Figure size 1000x500 with 1 Axes>"
      ]
     },
     "metadata": {},
     "output_type": "display_data"
    },
    {
     "name": "stdout",
     "output_type": "stream",
     "text": [
      "   Número de clústeres (k)       Inercia  Cambio inercia (%)\n",
      "0                        2  1.773418e+12            0.000000\n",
      "1                        3  8.499485e+11          -52.072848\n",
      "2                        4  4.344070e+11          -48.890198\n",
      "3                        5  2.712133e+11          -37.567000\n",
      "4                        6  1.813818e+11          -33.122102\n",
      "5                        7  1.619810e+11          -10.696118\n",
      "6                        8  1.101346e+11          -32.007700\n",
      "7                        9  8.530807e+10          -22.541977\n",
      "8                       10  8.004752e+10           -6.166531\n"
     ]
    }
   ],
   "source": [
    "evaluar_modelo_kmeans_varios_k(df_ica)"
   ]
  },
  {
   "cell_type": "markdown",
   "metadata": {},
   "source": [
    "Para la región Ica, el número óptimo de clúster es 6. Aunque por razones del negocio podrían considerarse 5 clústeres."
   ]
  },
  {
   "cell_type": "markdown",
   "metadata": {},
   "source": [
    "### Descripción de los clústeres"
   ]
  },
  {
   "cell_type": "code",
   "execution_count": 43,
   "metadata": {},
   "outputs": [
    {
     "name": "stdout",
     "output_type": "stream",
     "text": [
      "         rendimiento  trabajo_horas    jabas_al     jabas_cc   jabas_cp  \\\n",
      "Cluster                                                                   \n",
      "0          59.039873      35.797385   40.648380    34.880810   4.788257   \n",
      "1         106.081346     315.515326  488.281801  1075.151456  66.758123   \n",
      "2          81.533473     241.999574  130.940622   437.232387  31.390068   \n",
      "3         112.428882     253.012770  489.333104   307.912495  74.908369   \n",
      "4          75.384797     145.974029  125.985515   216.157267  30.602248   \n",
      "5          89.600101      62.343085   36.842101    54.024069   0.422686   \n",
      "\n",
      "           jabas_js    jabas_mg     jabas_rg   jabas_sg  jabas_tc  ...  \\\n",
      "Cluster                                                            ...   \n",
      "0         16.798381   10.253724    58.706043   6.833256  2.373032  ...   \n",
      "1        685.054291  114.205556   903.848582   0.000000  4.107778  ...   \n",
      "2        224.182694   57.071603   112.999071  85.955823  1.501833  ...   \n",
      "3        301.557289  115.453438  1960.998841   1.753320  7.997092  ...   \n",
      "4        110.456218   46.198937   361.924398  20.539345  6.608024  ...   \n",
      "5         11.984282   24.227021   147.676011  17.856995  9.117633  ...   \n",
      "\n",
      "                bono  bono_otros  asistentes  al_menos_un_hijo  campania_19  \\\n",
      "Cluster                                                                       \n",
      "0          73.820292    2.206411    2.082037          0.444027     0.467100   \n",
      "1        3773.416513    0.106897    9.421456          0.735632     0.298851   \n",
      "2        1350.047050    2.003939    7.607843          0.727195     0.514066   \n",
      "3        2231.629980    0.772083    6.872299          0.666012     0.624754   \n",
      "4         599.392243    2.649558    5.067476          0.648058     0.504854   \n",
      "5         190.343431   23.039176    3.715426          0.284574     0.481383   \n",
      "\n",
      "         campania_20  estado_civil_Casado(a)/conviviente/unionlibre  \\\n",
      "Cluster                                                               \n",
      "0           0.532900                                       0.057597   \n",
      "1           0.701149                                       0.076628   \n",
      "2           0.485934                                       0.077579   \n",
      "3           0.375246                                       0.072692   \n",
      "4           0.495146                                       0.061165   \n",
      "5           0.518617                                       0.079787   \n",
      "\n",
      "         estado_civil_Soltero(a)  sexo_Hombre  sexo_Mujer  \n",
      "Cluster                                                    \n",
      "0                       0.942403     0.400444    0.599556  \n",
      "1                       0.923372     0.406130    0.593870  \n",
      "2                       0.922421     0.221654    0.778346  \n",
      "3                       0.927308     0.394892    0.605108  \n",
      "4                       0.938835     0.268932    0.731068  \n",
      "5                       0.920213     0.462766    0.537234  \n",
      "\n",
      "[6 rows x 31 columns]\n"
     ]
    },
    {
     "name": "stderr",
     "output_type": "stream",
     "text": [
      "C:\\Users\\ANDREU\\AppData\\Local\\Temp\\ipykernel_21244\\2227378458.py:7: SettingWithCopyWarning: \n",
      "A value is trying to be set on a copy of a slice from a DataFrame.\n",
      "Try using .loc[row_indexer,col_indexer] = value instead\n",
      "\n",
      "See the caveats in the documentation: https://pandas.pydata.org/pandas-docs/stable/user_guide/indexing.html#returning-a-view-versus-a-copy\n",
      "  df_ica['Cluster'] = kmeans.labels_\n"
     ]
    }
   ],
   "source": [
    "from sklearn.cluster import KMeans\n",
    "\n",
    "# Supongamos que X es tu conjunto de datos\n",
    "kmeans = KMeans(n_clusters=6, random_state=0)\n",
    "kmeans.fit(df_ica)\n",
    "\n",
    "df_ica['Cluster'] = kmeans.labels_\n",
    "\n",
    "# Calcula las estadísticas descriptivas para cada clúster\n",
    "cluster_description = df_ica.groupby('Cluster').mean()\n",
    "print(cluster_description)"
   ]
  },
  {
   "cell_type": "markdown",
   "metadata": {},
   "source": [
    "## Para la región `Piura`"
   ]
  },
  {
   "cell_type": "code",
   "execution_count": 44,
   "metadata": {},
   "outputs": [],
   "source": [
    "df_piura = df[df['region']=='Piura']"
   ]
  },
  {
   "cell_type": "code",
   "execution_count": 45,
   "metadata": {},
   "outputs": [
    {
     "name": "stderr",
     "output_type": "stream",
     "text": [
      "C:\\Users\\ANDREU\\AppData\\Local\\Temp\\ipykernel_21244\\202142400.py:1: SettingWithCopyWarning: \n",
      "A value is trying to be set on a copy of a slice from a DataFrame\n",
      "\n",
      "See the caveats in the documentation: https://pandas.pydata.org/pandas-docs/stable/user_guide/indexing.html#returning-a-view-versus-a-copy\n",
      "  df_piura.drop('region', axis=1, inplace=True)\n"
     ]
    }
   ],
   "source": [
    "df_piura.drop('region', axis=1, inplace=True)"
   ]
  },
  {
   "cell_type": "code",
   "execution_count": 35,
   "metadata": {},
   "outputs": [
    {
     "name": "stdout",
     "output_type": "stream",
     "text": [
      "Porcentaje de muestras en cada grupo para 2 clústeres:\n",
      "Grupo 1: 66.54%\n",
      "Grupo 2: 33.46%\n",
      "\n",
      "Porcentaje de muestras en cada grupo para 3 clústeres:\n",
      "Grupo 1: 42.78%\n",
      "Grupo 2: 31.65%\n",
      "Grupo 3: 25.57%\n",
      "\n",
      "Porcentaje de muestras en cada grupo para 4 clústeres:\n",
      "Grupo 1: 38.48%\n",
      "Grupo 2: 19.21%\n",
      "Grupo 3: 25.20%\n",
      "Grupo 4: 17.11%\n",
      "\n",
      "Porcentaje de muestras en cada grupo para 5 clústeres:\n",
      "Grupo 1: 31.65%\n",
      "Grupo 2: 17.56%\n",
      "Grupo 3: 24.90%\n",
      "Grupo 4: 14.29%\n",
      "Grupo 5: 11.60%\n",
      "\n",
      "Porcentaje de muestras en cada grupo para 6 clústeres:\n",
      "Grupo 1: 31.62%\n",
      "Grupo 2: 9.46%\n",
      "Grupo 3: 24.90%\n",
      "Grupo 4: 12.26%\n",
      "Grupo 5: 11.52%\n",
      "Grupo 6: 10.24%\n",
      "\n",
      "Porcentaje de muestras en cada grupo para 7 clústeres:\n",
      "Grupo 1: 24.27%\n",
      "Grupo 2: 9.47%\n",
      "Grupo 3: 24.64%\n",
      "Grupo 4: 12.23%\n",
      "Grupo 5: 11.12%\n",
      "Grupo 6: 10.24%\n",
      "Grupo 7: 8.02%\n",
      "\n",
      "Porcentaje de muestras en cada grupo para 8 clústeres:\n",
      "Grupo 1: 31.44%\n",
      "Grupo 2: 8.01%\n",
      "Grupo 3: 24.90%\n",
      "Grupo 4: 7.56%\n",
      "Grupo 5: 5.43%\n",
      "Grupo 6: 10.19%\n",
      "Grupo 7: 7.00%\n",
      "Grupo 8: 5.47%\n",
      "\n",
      "Porcentaje de muestras en cada grupo para 9 clústeres:\n",
      "Grupo 1: 24.32%\n",
      "Grupo 2: 8.01%\n",
      "Grupo 3: 24.59%\n",
      "Grupo 4: 7.56%\n",
      "Grupo 5: 5.43%\n",
      "Grupo 6: 10.03%\n",
      "Grupo 7: 7.00%\n",
      "Grupo 8: 5.47%\n",
      "Grupo 9: 7.60%\n",
      "\n",
      "Porcentaje de muestras en cada grupo para 10 clústeres:\n",
      "Grupo 1: 24.10%\n",
      "Grupo 2: 8.09%\n",
      "Grupo 3: 24.59%\n",
      "Grupo 4: 6.07%\n",
      "Grupo 5: 5.42%\n",
      "Grupo 6: 5.53%\n",
      "Grupo 7: 7.01%\n",
      "Grupo 8: 5.36%\n",
      "Grupo 9: 7.60%\n",
      "Grupo 10: 6.23%\n",
      "\n"
     ]
    },
    {
     "data": {
      "image/png": "[encoded data removed]",
      "text/plain": [
       "<Figure size 1000x500 with 1 Axes>"
      ]
     },
     "metadata": {},
     "output_type": "display_data"
    },
    {
     "name": "stdout",
     "output_type": "stream",
     "text": [
      "   Número de clústeres (k)       Inercia  Cambio inercia (%)\n",
      "0                        2  2.034995e+12            0.000000\n",
      "1                        3  1.014626e+12          -50.141129\n",
      "2                        4  4.958019e+11          -51.134496\n",
      "3                        5  2.850115e+11          -42.515051\n",
      "4                        6  2.050738e+11          -28.047184\n",
      "5                        7  1.882740e+11           -8.192044\n",
      "6                        8  1.508832e+11          -19.859804\n",
      "7                        9  1.346589e+11          -10.752863\n",
      "8                       10  1.212748e+11           -9.939246\n"
     ]
    }
   ],
   "source": [
    "evaluar_modelo_kmeans_varios_k(df_piura)"
   ]
  },
  {
   "cell_type": "markdown",
   "metadata": {},
   "source": [
    "Para la región Ica, el número óptimo de clúster es 7. Aunque por razones del negocio, podrían considerarse 5 clústeres."
   ]
  },
  {
   "cell_type": "markdown",
   "metadata": {},
   "source": [
    "### Descripción de los clústeres"
   ]
  },
  {
   "cell_type": "code",
   "execution_count": 47,
   "metadata": {},
   "outputs": [
    {
     "name": "stdout",
     "output_type": "stream",
     "text": [
      "         rendimiento  trabajo_horas    jabas_al   jabas_cc  jabas_cp  \\\n",
      "Cluster                                                                \n",
      "0          72.864813     171.385225  250.081235   0.211519  0.000000   \n",
      "1          54.605213     258.445444  601.757410   2.370204  0.000000   \n",
      "2          70.354981     387.441824  668.018302   0.509371  0.000000   \n",
      "3          58.513049     286.709787  654.939128   2.040717  0.000000   \n",
      "4         101.950615     320.759598   57.345232  83.593820  0.061777   \n",
      "5          54.510256      56.991484   61.062747   5.320132  0.000000   \n",
      "\n",
      "             jabas_js    jabas_mg   jabas_rg    jabas_sg  jabas_tc  ...  \\\n",
      "Cluster                                                             ...   \n",
      "0         1678.400868  318.073923  51.952621    9.777563  0.000000  ...   \n",
      "1         4400.370216  350.390576   2.115683    3.725851  0.000000  ...   \n",
      "2        11721.278994  552.606667   1.336604    1.389182  0.000000  ...   \n",
      "3         7417.611047  272.932849   2.344516    5.481318  0.000000  ...   \n",
      "4           23.808322   65.816489  51.868960  284.120186  0.000000  ...   \n",
      "5           20.223277   20.655412  29.453359   60.505747  0.001701  ...   \n",
      "\n",
      "               bono  bono_otros  asistentes  al_menos_un_hijo  campania_19  \\\n",
      "Cluster                                                                      \n",
      "0         33.846778    0.434992    3.656093          0.604341     0.631052   \n",
      "1         99.560588    0.028741    4.354916          0.681055     0.878897   \n",
      "2        320.127170    0.000000    5.251572          0.603774     0.182390   \n",
      "3        149.769419    0.000000    4.317829          0.649225     0.290698   \n",
      "4        208.035065    0.281690    6.180805          0.692879     0.591331   \n",
      "5          6.074552    0.191760    2.213983          0.457673     0.489279   \n",
      "\n",
      "         campania_20  estado_civil_Casado(a)/conviviente/unionlibre  \\\n",
      "Cluster                                                               \n",
      "0           0.368948                                       0.090150   \n",
      "1           0.121103                                       0.088729   \n",
      "2           0.817610                                       0.094340   \n",
      "3           0.709302                                       0.102713   \n",
      "4           0.408669                                       0.130031   \n",
      "5           0.510721                                       0.084767   \n",
      "\n",
      "         estado_civil_Soltero(a)  sexo_Hombre  sexo_Mujer  \n",
      "Cluster                                                    \n",
      "0                       0.909850     0.547579    0.452421  \n",
      "1                       0.911271     0.505995    0.494005  \n",
      "2                       0.905660     0.484277    0.515723  \n",
      "3                       0.897287     0.478682    0.521318  \n",
      "4                       0.869969     0.562229    0.437771  \n",
      "5                       0.915233     0.555171    0.444829  \n",
      "\n",
      "[6 rows x 31 columns]\n"
     ]
    },
    {
     "name": "stderr",
     "output_type": "stream",
     "text": [
      "C:\\Users\\ANDREU\\AppData\\Local\\Temp\\ipykernel_21244\\1798683736.py:7: SettingWithCopyWarning: \n",
      "A value is trying to be set on a copy of a slice from a DataFrame.\n",
      "Try using .loc[row_indexer,col_indexer] = value instead\n",
      "\n",
      "See the caveats in the documentation: https://pandas.pydata.org/pandas-docs/stable/user_guide/indexing.html#returning-a-view-versus-a-copy\n",
      "  df_piura['Cluster'] = kmeans.labels_\n"
     ]
    }
   ],
   "source": [
    "from sklearn.cluster import KMeans\n",
    "\n",
    "# Supongamos que X es tu conjunto de datos\n",
    "kmeans = KMeans(n_clusters=6, random_state=0)\n",
    "kmeans.fit(df_piura)\n",
    "\n",
    "df_piura['Cluster'] = kmeans.labels_\n",
    "\n",
    "# Calcula las estadísticas descriptivas para cada clúster\n",
    "cluster_description = df_piura.groupby('Cluster').mean()\n",
    "print(cluster_description)"
   ]
  }
 ],
 "metadata": {
  "kernelspec": {
   "display_name": "env",
   "language": "python",
   "name": "python3"
  },
  "language_info": {
   "codemirror_mode": {
    "name": "ipython",
    "version": 3
   },
   "file_extension": ".py",
   "mimetype": "text/x-python",
   "name": "python",
   "nbconvert_exporter": "python",
   "pygments_lexer": "ipython3",
   "version": "3.11.4"
  }
 },
 "nbformat": 4,
 "nbformat_minor": 2
}
