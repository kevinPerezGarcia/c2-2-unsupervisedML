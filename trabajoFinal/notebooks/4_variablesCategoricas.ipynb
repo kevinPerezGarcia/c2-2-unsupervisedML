{
 "cells": [
  {
   "cell_type": "markdown",
   "metadata": {},
   "source": [
    "# Tratamiento de variables categóricas"
   ]
  },
  {
   "cell_type": "code",
   "execution_count": 2,
   "metadata": {},
   "outputs": [],
   "source": [
    "import pandas as pd\n",
    "from sklearn.preprocessing import OrdinalEncoder\n",
    "df = pd.read_pickle(\"../data/interim/df_tipoDato.pkl\")"
   ]
  },
  {
   "cell_type": "code",
   "execution_count": 3,
   "metadata": {},
   "outputs": [
    {
     "data": {
      "text/plain": [
       "Index(['campania', 'estudio', 'estado_civil', 'sexo',\n",
       "       'calificacion_financiera', 'calificacion_financiera_moda',\n",
       "       'bancarizado', 'region'],\n",
       "      dtype='object')"
      ]
     },
     "execution_count": 3,
     "metadata": {},
     "output_type": "execute_result"
    }
   ],
   "source": [
    "var_categoricas = df.select_dtypes(include=['category']).columns\n",
    "var_categoricas"
   ]
  },
  {
   "cell_type": "code",
   "execution_count": 4,
   "metadata": {},
   "outputs": [
    {
     "data": {
      "text/plain": [
       "campania\n",
       "19    11579\n",
       "20    11328\n",
       "Name: count, dtype: int64"
      ]
     },
     "execution_count": 4,
     "metadata": {},
     "output_type": "execute_result"
    }
   ],
   "source": [
    "df['campania'].value_counts()"
   ]
  },
  {
   "cell_type": "markdown",
   "metadata": {},
   "source": [
    "Excelente distribución de datos para ambas campañas."
   ]
  },
  {
   "cell_type": "code",
   "execution_count": 5,
   "metadata": {},
   "outputs": [
    {
     "data": {
      "text/plain": [
       "region\n",
       "Piura    12677\n",
       "Ica      10230\n",
       "Name: count, dtype: int64"
      ]
     },
     "execution_count": 5,
     "metadata": {},
     "output_type": "execute_result"
    }
   ],
   "source": [
    "df['region'].value_counts()"
   ]
  },
  {
   "cell_type": "markdown",
   "metadata": {},
   "source": [
    "Excelente distribución de los datos para ambas regiones de cultivo."
   ]
  },
  {
   "cell_type": "code",
   "execution_count": 7,
   "metadata": {},
   "outputs": [
    {
     "data": {
      "text/plain": [
       "region  campania\n",
       "Piura   19          6626\n",
       "        20          6051\n",
       "Ica     20          5277\n",
       "        19          4953\n",
       "Name: count, dtype: int64"
      ]
     },
     "execution_count": 7,
     "metadata": {},
     "output_type": "execute_result"
    }
   ],
   "source": [
    "df[['region', 'campania']].value_counts()"
   ]
  },
  {
   "cell_type": "markdown",
   "metadata": {},
   "source": [
    "Excelente distribución de los datos para ambas regiones de cultivo en ambos años de campaña.\n",
    "\n",
    "*Nota.* Recuérdese que se aplicará el algoritmo para cada una de las regiones de cultivo considerando ambos años como uno solo."
   ]
  },
  {
   "cell_type": "code",
   "execution_count": 9,
   "metadata": {},
   "outputs": [
    {
     "data": {
      "text/plain": [
       "estudio\n",
       "SECUNDARIA COMPLETA      7598\n",
       "SECUNDARIA IMCOMPLETA    5781\n",
       "PRIMARIA COMPLETA        2700\n",
       "PRIMARIA INCOMPLETA      1814\n",
       "ILETRADO                  462\n",
       "SUPERIOR - TECNICO        304\n",
       "EDUCACION ESPECIAL          1\n",
       "Name: count, dtype: int64"
      ]
     },
     "execution_count": 9,
     "metadata": {},
     "output_type": "execute_result"
    }
   ],
   "source": [
    "df['estudio'].value_counts()"
   ]
  },
  {
   "cell_type": "markdown",
   "metadata": {},
   "source": [
    "Se recategoriza la categoría `EDUCACION ESPECIAL` a la categoría `ILETRADO`."
   ]
  },
  {
   "cell_type": "code",
   "execution_count": 10,
   "metadata": {},
   "outputs": [],
   "source": [
    "df.loc[df['estudio'] == 'EDUCACION ESPECIAL', 'estudio'] = 'ILETRADO'"
   ]
  },
  {
   "cell_type": "code",
   "execution_count": 14,
   "metadata": {},
   "outputs": [],
   "source": [
    "df['estudio'] = df['estudio'].cat.remove_categories(['EDUCACION ESPECIAL'])"
   ]
  },
  {
   "cell_type": "code",
   "execution_count": 15,
   "metadata": {},
   "outputs": [
    {
     "data": {
      "text/plain": [
       "estudio\n",
       "SECUNDARIA COMPLETA      7598\n",
       "SECUNDARIA IMCOMPLETA    5781\n",
       "PRIMARIA COMPLETA        2700\n",
       "PRIMARIA INCOMPLETA      1814\n",
       "ILETRADO                  463\n",
       "SUPERIOR - TECNICO        304\n",
       "Name: count, dtype: int64"
      ]
     },
     "execution_count": 15,
     "metadata": {},
     "output_type": "execute_result"
    }
   ],
   "source": [
    "df['estudio'].value_counts()"
   ]
  },
  {
   "cell_type": "code",
   "execution_count": 17,
   "metadata": {},
   "outputs": [
    {
     "data": {
      "text/plain": [
       "0        1.0\n",
       "1        3.0\n",
       "2        3.0\n",
       "3        3.0\n",
       "4        5.0\n",
       "        ... \n",
       "22902    2.0\n",
       "22903    4.0\n",
       "22904    NaN\n",
       "22905    1.0\n",
       "22906    NaN\n",
       "Name: estudio_encoded, Length: 22907, dtype: float64"
      ]
     },
     "execution_count": 17,
     "metadata": {},
     "output_type": "execute_result"
    }
   ],
   "source": [
    "encoder = OrdinalEncoder()\n",
    "df['estudio_encoded'] = encoder.fit_transform(df[['estudio']])"
   ]
  },
  {
   "cell_type": "code",
   "execution_count": 18,
   "metadata": {},
   "outputs": [
    {
     "name": "stdout",
     "output_type": "stream",
     "text": [
      "ILETRADO: 0\n",
      "PRIMARIA COMPLETA: 1\n",
      "PRIMARIA INCOMPLETA: 2\n",
      "SECUNDARIA COMPLETA: 3\n",
      "SECUNDARIA IMCOMPLETA: 4\n",
      "SUPERIOR - TECNICO: 5\n",
      "nan: 6\n"
     ]
    }
   ],
   "source": [
    "categories = encoder.categories_\n",
    "for i, category in enumerate(categories[0]):\n",
    "    print(f\"{category}: {i}\")"
   ]
  }
 ],
 "metadata": {
  "kernelspec": {
   "display_name": "env",
   "language": "python",
   "name": "python3"
  },
  "language_info": {
   "codemirror_mode": {
    "name": "ipython",
    "version": 3
   },
   "file_extension": ".py",
   "mimetype": "text/x-python",
   "name": "python",
   "nbconvert_exporter": "python",
   "pygments_lexer": "ipython3",
   "version": "3.11.4"
  }
 },
 "nbformat": 4,
 "nbformat_minor": 2
}
